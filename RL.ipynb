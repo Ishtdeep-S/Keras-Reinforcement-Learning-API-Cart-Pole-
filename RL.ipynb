{
 "cells": [
  {
   "cell_type": "code",
   "execution_count": 1,
   "metadata": {},
   "outputs": [
    {
     "name": "stderr",
     "output_type": "stream",
     "text": [
      "/Users/abhishek/anaconda3/lib/python3.6/site-packages/h5py/__init__.py:36: FutureWarning: Conversion of the second argument of issubdtype from `float` to `np.floating` is deprecated. In future, it will be treated as `np.float64 == np.dtype(float).type`.\n",
      "  from ._conv import register_converters as _register_converters\n",
      "Using TensorFlow backend.\n"
     ]
    }
   ],
   "source": [
    "import gym\n",
    "import random\n",
    "import numpy as np\n",
    "from keras.layers import Dense, Flatten\n",
    "from keras.models import Sequential\n",
    "from keras.optimizers import Adam"
   ]
  },
  {
   "cell_type": "code",
   "execution_count": 2,
   "metadata": {},
   "outputs": [],
   "source": [
    "env = gym.make('CartPole-v1')"
   ]
  },
  {
   "cell_type": "code",
   "execution_count": 3,
   "metadata": {},
   "outputs": [
    {
     "name": "stdout",
     "output_type": "stream",
     "text": [
      "States 4\n"
     ]
    }
   ],
   "source": [
    "states = env.observation_space.shape[0]\n",
    "print('States', states)"
   ]
  },
  {
   "cell_type": "code",
   "execution_count": 4,
   "metadata": {},
   "outputs": [
    {
     "name": "stdout",
     "output_type": "stream",
     "text": [
      "Actions 2\n"
     ]
    }
   ],
   "source": [
    "actions = env.action_space.n\n",
    "print('Actions', actions)"
   ]
  },
  {
   "cell_type": "code",
   "execution_count": 5,
   "metadata": {},
   "outputs": [
    {
     "name": "stdout",
     "output_type": "stream",
     "text": [
      "episode 1 score 35.0\n",
      "episode 2 score 15.0\n",
      "episode 3 score 30.0\n",
      "episode 4 score 51.0\n",
      "episode 5 score 12.0\n",
      "episode 6 score 15.0\n",
      "episode 7 score 14.0\n",
      "episode 8 score 25.0\n",
      "episode 9 score 10.0\n",
      "episode 10 score 35.0\n"
     ]
    }
   ],
   "source": [
    "episodes = 10\n",
    "\n",
    "for episode in range(1,episodes+1):\n",
    "    # At each begining reset the game \n",
    "    state = env.reset()\n",
    "    # set done to False\n",
    "    done = False\n",
    "    # set score to 0\n",
    "    score = 0\n",
    "    # while the game is not finished\n",
    "    while not done:\n",
    "        # visualize each step\n",
    "        env.render()\n",
    "        # choose a random action\n",
    "        action = random.choice([0,1])\n",
    "        # execute the action\n",
    "        n_state, reward, done, info = env.step(action)\n",
    "        # keep track of rewards\n",
    "        score+=reward\n",
    "    print('episode {} score {}'.format(episode, score))"
   ]
  },
  {
   "cell_type": "code",
   "execution_count": 6,
   "metadata": {},
   "outputs": [],
   "source": [
    "def agent(states, actions):\n",
    "    model = Sequential()\n",
    "    model.add(Flatten(input_shape = (1, states)))\n",
    "    model.add(Dense(24, activation='relu'))\n",
    "    model.add(Dense(24, activation='relu'))\n",
    "    model.add(Dense(24, activation='relu'))\n",
    "    model.add(Dense(actions, activation='linear'))\n",
    "    return model\n",
    "  \n",
    "model = agent(env.observation_space.shape[0], env.action_space.n)"
   ]
  },
  {
   "cell_type": "code",
   "execution_count": 7,
   "metadata": {},
   "outputs": [],
   "source": [
    "from rl.agents import SARSAAgent\n",
    "from rl.policy import EpsGreedyQPolicy\n",
    "\n",
    "policy = EpsGreedyQPolicy()"
   ]
  },
  {
   "cell_type": "code",
   "execution_count": 8,
   "metadata": {},
   "outputs": [],
   "source": [
    "sarsa = SARSAAgent(model = model, policy = policy, nb_actions = env.action_space.n)"
   ]
  },
  {
   "cell_type": "code",
   "execution_count": 9,
   "metadata": {},
   "outputs": [],
   "source": [
    "sarsa.compile('adam', metrics = ['mse'])"
   ]
  },
  {
   "cell_type": "code",
   "execution_count": 10,
   "metadata": {},
   "outputs": [
    {
     "name": "stdout",
     "output_type": "stream",
     "text": [
      "Training for 50000 steps ...\n",
      "Interval 1 (0 steps performed)\n",
      "10000/10000 [==============================] - 51s 5ms/step - reward: 1.0000\n",
      "258 episodes - episode_reward: 37.837 [8.000, 275.000] - loss: 8.962 - mean_squared_error: 521.801 - mean_q: 29.880\n",
      "\n",
      "Interval 2 (10000 steps performed)\n",
      "10000/10000 [==============================] - 50s 5ms/step - reward: 1.0000\n",
      "100 episodes - episode_reward: 100.780 [11.000, 500.000] - loss: 9.691 - mean_squared_error: 1403.165 - mean_q: 51.363\n",
      "\n",
      "Interval 3 (20000 steps performed)\n",
      "10000/10000 [==============================] - 50s 5ms/step - reward: 1.0000\n",
      "72 episodes - episode_reward: 139.972 [11.000, 500.000] - loss: 3.466 - mean_squared_error: 1458.694 - mean_q: 50.491\n",
      "\n",
      "Interval 4 (30000 steps performed)\n",
      "10000/10000 [==============================] - 51s 5ms/step - reward: 1.0000\n",
      "74 episodes - episode_reward: 133.919 [10.000, 434.000] - loss: 2.160 - mean_squared_error: 1464.023 - mean_q: 49.749\n",
      "\n",
      "Interval 5 (40000 steps performed)\n",
      "10000/10000 [==============================] - 51s 5ms/step - reward: 1.0000\n",
      "done, took 253.844 seconds\n"
     ]
    },
    {
     "data": {
      "text/plain": [
       "<keras.callbacks.History at 0xb2ea9e4a8>"
      ]
     },
     "execution_count": 10,
     "metadata": {},
     "output_type": "execute_result"
    }
   ],
   "source": [
    "sarsa.fit(env, nb_steps = 50000, visualize = False, verbose = 1)"
   ]
  },
  {
   "cell_type": "code",
   "execution_count": 11,
   "metadata": {},
   "outputs": [
    {
     "name": "stdout",
     "output_type": "stream",
     "text": [
      "Testing for 100 episodes ...\n",
      "Episode 1: reward: 500.000, steps: 500\n",
      "Episode 2: reward: 500.000, steps: 500\n",
      "Episode 3: reward: 500.000, steps: 500\n",
      "Episode 4: reward: 500.000, steps: 500\n",
      "Episode 5: reward: 500.000, steps: 500\n",
      "Episode 6: reward: 500.000, steps: 500\n",
      "Episode 7: reward: 500.000, steps: 500\n",
      "Episode 8: reward: 500.000, steps: 500\n",
      "Episode 9: reward: 500.000, steps: 500\n",
      "Episode 10: reward: 500.000, steps: 500\n",
      "Episode 11: reward: 500.000, steps: 500\n",
      "Episode 12: reward: 500.000, steps: 500\n",
      "Episode 13: reward: 500.000, steps: 500\n",
      "Episode 14: reward: 500.000, steps: 500\n",
      "Episode 15: reward: 500.000, steps: 500\n",
      "Episode 16: reward: 500.000, steps: 500\n",
      "Episode 17: reward: 500.000, steps: 500\n",
      "Episode 18: reward: 500.000, steps: 500\n",
      "Episode 19: reward: 500.000, steps: 500\n",
      "Episode 20: reward: 500.000, steps: 500\n",
      "Episode 21: reward: 500.000, steps: 500\n",
      "Episode 22: reward: 500.000, steps: 500\n",
      "Episode 23: reward: 500.000, steps: 500\n",
      "Episode 24: reward: 500.000, steps: 500\n",
      "Episode 25: reward: 500.000, steps: 500\n",
      "Episode 26: reward: 500.000, steps: 500\n",
      "Episode 27: reward: 500.000, steps: 500\n",
      "Episode 28: reward: 500.000, steps: 500\n",
      "Episode 29: reward: 500.000, steps: 500\n",
      "Episode 30: reward: 500.000, steps: 500\n",
      "Episode 31: reward: 500.000, steps: 500\n",
      "Episode 32: reward: 500.000, steps: 500\n",
      "Episode 33: reward: 500.000, steps: 500\n",
      "Episode 34: reward: 500.000, steps: 500\n",
      "Episode 35: reward: 500.000, steps: 500\n",
      "Episode 36: reward: 500.000, steps: 500\n",
      "Episode 37: reward: 500.000, steps: 500\n",
      "Episode 38: reward: 500.000, steps: 500\n",
      "Episode 39: reward: 500.000, steps: 500\n",
      "Episode 40: reward: 500.000, steps: 500\n",
      "Episode 41: reward: 500.000, steps: 500\n",
      "Episode 42: reward: 500.000, steps: 500\n",
      "Episode 43: reward: 500.000, steps: 500\n",
      "Episode 44: reward: 500.000, steps: 500\n",
      "Episode 45: reward: 500.000, steps: 500\n",
      "Episode 46: reward: 500.000, steps: 500\n",
      "Episode 47: reward: 500.000, steps: 500\n",
      "Episode 48: reward: 500.000, steps: 500\n",
      "Episode 49: reward: 500.000, steps: 500\n",
      "Episode 50: reward: 500.000, steps: 500\n",
      "Episode 51: reward: 500.000, steps: 500\n",
      "Episode 52: reward: 500.000, steps: 500\n",
      "Episode 53: reward: 500.000, steps: 500\n",
      "Episode 54: reward: 500.000, steps: 500\n",
      "Episode 55: reward: 500.000, steps: 500\n",
      "Episode 56: reward: 500.000, steps: 500\n",
      "Episode 57: reward: 500.000, steps: 500\n",
      "Episode 58: reward: 500.000, steps: 500\n",
      "Episode 59: reward: 500.000, steps: 500\n",
      "Episode 60: reward: 500.000, steps: 500\n",
      "Episode 61: reward: 500.000, steps: 500\n",
      "Episode 62: reward: 500.000, steps: 500\n",
      "Episode 63: reward: 500.000, steps: 500\n",
      "Episode 64: reward: 500.000, steps: 500\n",
      "Episode 65: reward: 500.000, steps: 500\n",
      "Episode 66: reward: 500.000, steps: 500\n",
      "Episode 67: reward: 500.000, steps: 500\n",
      "Episode 68: reward: 500.000, steps: 500\n",
      "Episode 69: reward: 500.000, steps: 500\n",
      "Episode 70: reward: 500.000, steps: 500\n",
      "Episode 71: reward: 500.000, steps: 500\n",
      "Episode 72: reward: 500.000, steps: 500\n",
      "Episode 73: reward: 500.000, steps: 500\n",
      "Episode 74: reward: 500.000, steps: 500\n",
      "Episode 75: reward: 500.000, steps: 500\n",
      "Episode 76: reward: 500.000, steps: 500\n",
      "Episode 77: reward: 500.000, steps: 500\n",
      "Episode 78: reward: 500.000, steps: 500\n",
      "Episode 79: reward: 500.000, steps: 500\n",
      "Episode 80: reward: 500.000, steps: 500\n",
      "Episode 81: reward: 500.000, steps: 500\n",
      "Episode 82: reward: 500.000, steps: 500\n",
      "Episode 83: reward: 500.000, steps: 500\n",
      "Episode 84: reward: 500.000, steps: 500\n",
      "Episode 85: reward: 500.000, steps: 500\n",
      "Episode 86: reward: 500.000, steps: 500\n",
      "Episode 87: reward: 500.000, steps: 500\n",
      "Episode 88: reward: 500.000, steps: 500\n",
      "Episode 89: reward: 500.000, steps: 500\n",
      "Episode 90: reward: 500.000, steps: 500\n",
      "Episode 91: reward: 500.000, steps: 500\n",
      "Episode 92: reward: 500.000, steps: 500\n",
      "Episode 93: reward: 500.000, steps: 500\n",
      "Episode 94: reward: 500.000, steps: 500\n",
      "Episode 95: reward: 500.000, steps: 500\n",
      "Episode 96: reward: 500.000, steps: 500\n",
      "Episode 97: reward: 500.000, steps: 500\n",
      "Episode 98: reward: 500.000, steps: 500\n",
      "Episode 99: reward: 500.000, steps: 500\n",
      "Episode 100: reward: 500.000, steps: 500\n",
      "Average score over 100 test games:500.0\n"
     ]
    }
   ],
   "source": [
    "scores = sarsa.test(env, nb_episodes = 100, visualize= False)\n",
    "print('Average score over 100 test games:{}'.format(np.mean(scores.history['episode_reward'])))"
   ]
  },
  {
   "cell_type": "code",
   "execution_count": 12,
   "metadata": {},
   "outputs": [],
   "source": [
    "sarsa.save_weights('sarsa_weights.h5f', overwrite=True)"
   ]
  },
  {
   "cell_type": "code",
   "execution_count": null,
   "metadata": {},
   "outputs": [],
   "source": [
    "# sarsa.load_weights('sarsa_weights.h5f')"
   ]
  },
  {
   "cell_type": "code",
   "execution_count": 15,
   "metadata": {},
   "outputs": [
    {
     "name": "stdout",
     "output_type": "stream",
     "text": [
      "Testing for 2 episodes ...\n",
      "Episode 1: reward: 500.000, steps: 500\n",
      "Episode 2: reward: 500.000, steps: 500\n"
     ]
    }
   ],
   "source": [
    "_ = sarsa.test(env, nb_episodes = 2, visualize= True)"
   ]
  },
  {
   "cell_type": "code",
   "execution_count": null,
   "metadata": {},
   "outputs": [],
   "source": []
  }
 ],
 "metadata": {
  "kernelspec": {
   "display_name": "Python 3",
   "language": "python",
   "name": "python3"
  },
  "language_info": {
   "codemirror_mode": {
    "name": "ipython",
    "version": 3
   },
   "file_extension": ".py",
   "mimetype": "text/x-python",
   "name": "python",
   "nbconvert_exporter": "python",
   "pygments_lexer": "ipython3",
   "version": "3.6.5"
  }
 },
 "nbformat": 4,
 "nbformat_minor": 2
}
